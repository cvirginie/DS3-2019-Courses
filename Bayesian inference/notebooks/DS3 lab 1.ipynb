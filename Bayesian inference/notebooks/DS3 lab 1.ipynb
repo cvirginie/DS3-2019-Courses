{
 "cells": [
  {
   "cell_type": "code",
   "execution_count": null,
   "metadata": {
    "collapsed": true
   },
   "outputs": [],
   "source": [
    "# preamble\n",
    "import matplotlib.pyplot as plt\n",
    "import numpy as np\n",
    "import pandas as pd"
   ]
  },
  {
   "cell_type": "markdown",
   "metadata": {},
   "source": [
    "### We're going to start off looking at the job prestige data set from the lecture.\n",
    "\n",
    "prestige.csv contains information about various jobs. Let's load the data"
   ]
  },
  {
   "cell_type": "code",
   "execution_count": null,
   "metadata": {},
   "outputs": [],
   "source": [
    "df = pd.read_csv(\"https://raw.githubusercontent.com/sinead/DS32019/master/data/prestige.csv\")\n",
    "df.head()"
   ]
  },
  {
   "cell_type": "markdown",
   "metadata": {},
   "source": [
    "### Let's build a linear regression model predicting prestige, from income and profession type. \n",
    "\n",
    "(We're ignoring the other variables just to make plotting the results easier)\n",
    "\n",
    "We'll start by introducing dummies for type."
   ]
  },
  {
   "cell_type": "code",
   "execution_count": null,
   "metadata": {},
   "outputs": [],
   "source": [
    "print('unique types: {}'.format(df.type.unique()))\n",
    "df = pd.concat([df, pd.get_dummies(df['type'])], axis=1)\n",
    "df.head()"
   ]
  },
  {
   "cell_type": "markdown",
   "metadata": {},
   "source": [
    "### Let's also scale the data so income and education are standardized... \n",
    "it'll make it easier to come up with decent priors "
   ]
  },
  {
   "cell_type": "code",
   "execution_count": null,
   "metadata": {
    "collapsed": true
   },
   "outputs": [],
   "source": [
    "df['income_z'] = (df['income'] - np.mean(df['income'])) / (np.std(df['income']))\n",
    "\n",
    "df['prestige_z'] = (df['prestige'] - np.mean(df['prestige'])) / (np.std(df['prestige']))"
   ]
  },
  {
   "cell_type": "markdown",
   "metadata": {},
   "source": [
    "### Let's quickly visualize the data"
   ]
  },
  {
   "cell_type": "code",
   "execution_count": null,
   "metadata": {},
   "outputs": [],
   "source": [
    "categories = ['bc', 'prof', 'wc']\n",
    "colors =['C0', 'C1', 'C2']\n",
    "\n",
    "# first draw the nan professions:\n",
    "df_tmp = df[pd.isnull(df.type)]\n",
    "plt.scatter(x=df_tmp['income_z'], y=df_tmp['prestige_z'], color='black', label='none')\n",
    "\n",
    "#then iterate through the other professions\n",
    "for i in range(3):\n",
    "    df_tmp = df[df.type == categories[i]]\n",
    "    plt.scatter(x=df_tmp['income_z'], y=df_tmp['prestige_z'], \n",
    "                color=colors[i], label=categories[i])\n",
    "    \n",
    "plt.xlabel('income')\n",
    "plt.ylabel('prestige')\n",
    "plt.legend()\n",
    "plt.show()"
   ]
  },
  {
   "cell_type": "markdown",
   "metadata": {},
   "source": [
    "### On to some stats! Let's start with the OLS estimator\n",
    "\n",
    "We're going to use \n",
    "\n",
    "We know that $\\hat{\\beta}_{LS} = (X^TX)^{-1}X^Ty$\n",
    "\n",
    "Edit the code below to implement the OLS estimator, then test it out in the next cell.\n",
    "<br>\n",
    "Helpful snippet: to calculate $\\hat{x} = A^{-1}b$, you can use numpy's least squares solver: \n",
    "\n",
    "`x_est = np.linalg.lstsq(A, b)[0]`"
   ]
  },
  {
   "cell_type": "code",
   "execution_count": null,
   "metadata": {
    "collapsed": true
   },
   "outputs": [],
   "source": [
    "def least_squares(X, y):\n",
    "    '''X is an N x D array, y is a length-N vector. Should return a D-dimensional vector'''\n",
    "    est = # TO DO\n",
    "      \n",
    "    return est"
   ]
  },
  {
   "cell_type": "code",
   "execution_count": null,
   "metadata": {},
   "outputs": [],
   "source": [
    "# Build X and y - don't forget the intercept!\n",
    "N = len(df)\n",
    "D = 4 # income plus three dummies\n",
    "X = np.ones((N, D + 1))\n",
    "X[:, 1:] = df[['income_z', 'bc', 'prof', 'wc']]\n",
    "\n",
    "y = df['prestige_z']\n",
    "\n",
    "# Now, construct the least squares estimator:\n",
    "beta_hat_LS = least_squares(X, y)\n",
    "\n",
    "\n",
    "print('least squares estimates:\\n')\n",
    "print('intercept: \\t{:.4f}\\nbc: \\t\\t{:.4f}\\nprof: \\t\\t{:.4f}\\nwc: \\t\\t{:.4f}'.format(beta_hat_LS[0],\n",
    "                                                                                     beta_hat_LS[1],\n",
    "                                                                                     beta_hat_LS[2],\n",
    "                                                                                     beta_hat_LS[3]\n",
    "                                                                                    ))\n",
    "               "
   ]
  },
  {
   "cell_type": "markdown",
   "metadata": {},
   "source": [
    "### Now let's plot the resulting lines"
   ]
  },
  {
   "cell_type": "code",
   "execution_count": null,
   "metadata": {
    "collapsed": true
   },
   "outputs": [],
   "source": [
    "#here's some code to draw lines\n",
    "\n",
    "def add_line(intercept, slope, linetype='--', color='black', alpha=1., label=None):\n",
    "    \"\"\"Plot a line from slope and intercept\"\"\"\n",
    "    axes = plt.gca()\n",
    "    axes.set_xlim()\n",
    "    axes.set_ylim()\n",
    "    x_vals = np.array(axes.get_xlim())\n",
    "    \n",
    "    y_vals = intercept + slope * x_vals\n",
    "    plt.plot(x_vals, y_vals, linetype, color=color, label=label, alpha=alpha)"
   ]
  },
  {
   "cell_type": "code",
   "execution_count": null,
   "metadata": {},
   "outputs": [],
   "source": [
    "# first plot the scatter plots, as before:\n",
    "df_tmp = df[pd.isnull(df.type)]\n",
    "plt.scatter(x=df_tmp['income_z'], y=df_tmp['prestige_z'], color='black', label=None)\n",
    "\n",
    "for i in range(3):\n",
    "    df_tmp = df[df.type == categories[i]]\n",
    "    plt.scatter(x=df_tmp['income_z'], y=df_tmp['prestige_z'], color=colors[i], label=None)\n",
    "\n",
    "# Then add in the lines\n",
    "\n",
    "# First add in the null line: \n",
    "add_line(beta_hat_LS[0], beta_hat_LS[1], color='black', label='none')\n",
    "\n",
    "# Then add in the other profession lines: \n",
    "for i in range(3):\n",
    "    add_line(beta_hat_LS[0] + beta_hat_LS[2 + i], beta_hat_LS[1], \n",
    "             color=colors[i], label=categories[i])\n",
    "    \n",
    "plt.xlabel('income')\n",
    "plt.ylabel('prestige')\n",
    "plt.legend()\n",
    "plt.show()"
   ]
  },
  {
   "cell_type": "markdown",
   "metadata": {},
   "source": [
    "### Bonus question - how could we improve this model? Try getting a least squares estimate of a more complex model."
   ]
  },
  {
   "cell_type": "code",
   "execution_count": null,
   "metadata": {
    "collapsed": true
   },
   "outputs": [],
   "source": [
    "# Model building here..."
   ]
  },
  {
   "cell_type": "markdown",
   "metadata": {},
   "source": [
    "## Now, let's compare with ridge regression.\n",
    "\n",
    "Recall that the ridge regression estimator takes the form\n",
    "\n",
    "$$\\hat{\\beta}_{ridge} = \\left(X^TX + \\lambda \\mathbf{I}\\right)^{-1}X^Ty$$\n",
    "\n",
    "In the cell below, write a function to estimate $\\hat{\\beta}_{ridge}$.\n",
    "\n",
    "In the next cell, ick a value for $\\lambda$, test your code.\n",
    "    \n",
    "    "
   ]
  },
  {
   "cell_type": "code",
   "execution_count": null,
   "metadata": {
    "collapsed": true
   },
   "outputs": [],
   "source": [
    "def ridge(X, y, lambda_param):\n",
    "    '''\n",
    "    X is an N x D array, y is a length-N vector, lambda_param is a float. \n",
    "    Should return a D-dimensional vector.\n",
    "    '''\n",
    "    est = # TODO\n",
    "    \n",
    "    return est"
   ]
  },
  {
   "cell_type": "code",
   "execution_count": null,
   "metadata": {},
   "outputs": [],
   "source": [
    "lambda_param = # pick a value\n",
    "\n",
    "beta_hat_ridge = ridge(X, y, lambda_param)\n",
    "\n",
    "print('parameter \\t least squares \\t ridge')\n",
    "\n",
    "print('intercept \\t {:.4f} \\t {:.4f}'.format(beta_hat_LS[0], beta_hat_ridge[0]))\n",
    "print('bc \\t\\t {:.4f} \\t {:.4f}'.format(beta_hat_LS[1], beta_hat_ridge[1]))\n",
    "print('prof \\t\\t {:.4f} \\t {:.4f}'.format(beta_hat_LS[2], beta_hat_ridge[2]))\n",
    "print('wc \\t\\t {:.4f} \\t {:.4f}'.format(beta_hat_LS[3], beta_hat_ridge[3]))\n"
   ]
  },
  {
   "cell_type": "markdown",
   "metadata": {
    "collapsed": true
   },
   "source": [
    "### Plot and compare with the least squares values. \n"
   ]
  },
  {
   "cell_type": "code",
   "execution_count": null,
   "metadata": {},
   "outputs": [],
   "source": [
    "# first plot the scatter plots, as before:\n",
    "df_tmp = df[pd.isnull(df.type)]\n",
    "plt.scatter(x=df_tmp['income_z'], y=df_tmp['prestige_z'], color='black', label=None)\n",
    "\n",
    "for i in range(3):\n",
    "    df_tmp = df[df.type == categories[i]]\n",
    "    plt.scatter(x=df_tmp['income_z'], y=df_tmp['prestige_z'], color=colors[i], label=None)\n",
    "    \n",
    "\n",
    "# Then add in the lines\n",
    "\n",
    "# first the old lines:\n",
    "add_line(beta_hat_LS[0], beta_hat_LS[1], color='black', label='none (LS)')\n",
    "for i in range(3):\n",
    "    add_line(beta_hat_LS[0] + beta_hat_LS[2 + i], beta_hat_LS[1], \n",
    "             color=colors[i], label='{} (LS)'.format(categories[i]))\n",
    "\n",
    "# Then the new lines\n",
    "\n",
    "add_line(beta_hat_ridge[0], beta_hat_ridge[1], color='black', linetype='-.', \n",
    "         label='none (ridge)')\n",
    "for i in range(3):\n",
    "    add_line(beta_hat_ridge[0] + beta_hat_ridge[2 + i], beta_hat_ridge[1], \n",
    "             linetype='-.', color=colors[i], label='{} (ridge)'.format(categories[i]))\n",
    "    \n",
    "plt.xlabel('income')\n",
    "plt.ylabel('prestige')\n",
    "plt.legend()\n",
    "plt.show()"
   ]
  },
  {
   "cell_type": "markdown",
   "metadata": {},
   "source": [
    "### Is it behaving as you'd expect?\n",
    "\n",
    "Play around with some more values for $\\lambda$"
   ]
  },
  {
   "cell_type": "markdown",
   "metadata": {},
   "source": [
    "# Let's move onto Bayesian regression.\n",
    "\n",
    "Recall that, with fixed $\\sigma$ and a $\\mbox{Normal}(\\mu_0, \\Sigma_0)$ prior on $\\beta$, our posterior distribution for $\\beta$ is $\\mbox{Normal}(\\mu_n, \\Sigma_n)$ where\n",
    "\n",
    "$$\\mu_n = \\left(\\Sigma_0^{-1} + X^TX/\\sigma^2\\right)^{-1}\\left(\\Sigma_0^{-1}\\beta_0 + X^Ty/\\sigma^2\\right)$$\n",
    "\n",
    "$$\\Sigma_n = \\left(\\Sigma_0^{-1} + X^TX/\\sigma^2\\right)^{-1}$$\n",
    "\n",
    "Write some code to obtain the posterior parameters.\n"
   ]
  },
  {
   "cell_type": "code",
   "execution_count": null,
   "metadata": {
    "collapsed": true
   },
   "outputs": [],
   "source": [
    "def bayes(X, y, mu_0, S_0, sigma):\n",
    "    '''\n",
    "    X is an N x D array, y is a length-N vector, \n",
    "    mu_0 is a D-dimensional vector, S_0 is a D x D array, sigma is a positive scalar. \n",
    "    Should return a D-dimensional vector mu_n and a D x D array S_n.\n",
    "    '''\n",
    "    mu_n = # TODO\n",
    "    S_n = # TODO\n",
    "    \n",
    "    return mu_n, S_n"
   ]
  },
  {
   "cell_type": "markdown",
   "metadata": {},
   "source": [
    "Since we standardized our data, let's start with $\\sigma^2=1$, $\\mu_0 = 0$, and $\\Sigma_0 = \\mathbf{I}$\n"
   ]
  },
  {
   "cell_type": "code",
   "execution_count": null,
   "metadata": {
    "collapsed": true
   },
   "outputs": [],
   "source": [
    "sigma = 1.\n",
    "mu_0 = np.zeros(X.shape[1])\n",
    "S_0 = np.eye(X.shape[1])\n",
    "\n",
    "\n",
    "mu_n, S_n = bayes(X, y, mu_0, S_0, sigma)\n"
   ]
  },
  {
   "cell_type": "markdown",
   "metadata": {},
   "source": [
    "### Compare your value of $\\mu_n$ with $\\hat{\\beta}_{ridge}$, when $\\Sigma_0 = \\frac{1}{\\lambda^2}\\mathbf{I}$"
   ]
  },
  {
   "cell_type": "code",
   "execution_count": null,
   "metadata": {},
   "outputs": [],
   "source": [
    "lambda_comp = # TODO \n",
    "beta_hat_ridge_comp = ridge(X, y, lambda_comp)\n",
    "\n",
    "print('parameter \\t Bayes mean \\t ridge')\n",
    "\n",
    "print('intercept \\t {:.4f} \\t {:.4f}'.format(mu_n[0], beta_hat_ridge_comp[0]))\n",
    "print('bc \\t\\t {:.4f} \\t {:.4f}'.format(mu_n[1], beta_hat_ridge_comp[1]))\n",
    "print('prof \\t\\t {:.4f} \\t {:.4f}'.format(mu_n[2], beta_hat_ridge_comp[2]))\n",
    "print('wc \\t\\t {:.4f} \\t {:.4f}'.format(mu_n[3], beta_hat_ridge_comp[3]))\n",
    "\n"
   ]
  },
  {
   "cell_type": "markdown",
   "metadata": {},
   "source": [
    "### Now let's simulate from the posterior, to get an idea of what it looks like\n",
    "\n",
    "For visual clarity, let's just look at the professional jobs"
   ]
  },
  {
   "cell_type": "code",
   "execution_count": null,
   "metadata": {},
   "outputs": [],
   "source": [
    "num_samples = 10\n",
    "cat = 1 # corresponds to professional jobs\n",
    "\n",
    "# first plot the scatter plot\n",
    "df_tmp = df[df.type == categories[cat]]\n",
    "plt.scatter(x=df_tmp['income_z'], y=df_tmp['prestige_z'], color='C1', label=None)\n",
    "\n",
    "# then add in num_samples samples\n",
    "for i in range(num_samples):\n",
    "    mu_sample = np.random.multivariate_normal(mean=mu_n, cov=S_n)\n",
    "    if i == 0:\n",
    "        add_line(mu_sample[0] + mu_sample[2 + cat], mu_sample[1], \n",
    "                 linetype='-.', color='C1', alpha=0.4, label='samples from posterior')\n",
    "    else:\n",
    "        add_line(mu_sample[0] + mu_sample[2 + cat], mu_sample[1], \n",
    "                 linetype='-.', color='C1', alpha=0.4, label=None)\n",
    "add_line(mu_n[0] + mu_n[2 + cat], mu_n[1], linetype='-', color='C2', label='posterior mean')\n",
    "\n",
    "add_line(beta_hat_LS[0] + beta_hat_LS[2 + cat], beta_hat_LS[1], linetype='-', color='C3', label='least squares')\n",
    "plt.xlabel('income')\n",
    "plt.ylabel('prestige')\n",
    "plt.legend()\n",
    "plt.show()"
   ]
  },
  {
   "cell_type": "markdown",
   "metadata": {},
   "source": [
    "## What do you expect this plot to look like as the prior changes?\n",
    "\n",
    "Try it and find out! \n",
    "\n",
    "Re-run with $\\mu_0 = [10,10,10,10,10]$\n",
    "\n"
   ]
  },
  {
   "cell_type": "code",
   "execution_count": null,
   "metadata": {},
   "outputs": [],
   "source": [
    "mu_0_ones = 10*np.ones(X.shape[1])\n",
    "\n",
    "mu_n_ones, S_n_ones = bayes(X, y, mu_0_ones, S_0, sigma)\n",
    "\n",
    "\n",
    "num_samples = 10\n",
    "cat = 1 # corresponds to professional jobs\n",
    "\n",
    "# first plot the scatter plot\n",
    "df_tmp = df[df.type == categories[cat]]\n",
    "plt.scatter(x=df_tmp['income_z'], y=df_tmp['prestige_z'], color='C1', label=None)\n",
    "\n",
    "# then add in num_samples samples\n",
    "for i in range(num_samples):\n",
    "    mu_sample = np.random.multivariate_normal(mean=mu_n_ones, cov=S_n_ones)\n",
    "    if i == 0:\n",
    "        add_line(mu_sample[0] + mu_sample[2 + cat], mu_sample[1], \n",
    "                 linetype='-.', color='C1', alpha=0.4, label='samples from posterior')\n",
    "    else:\n",
    "        add_line(mu_sample[0] + mu_sample[2 + cat], mu_sample[1], \n",
    "                 linetype='-.', color='C1', alpha=0.4, label=None)\n",
    "add_line(mu_n_ones[0] + mu_n_ones[2 + cat], mu_n_ones[1], linetype='-', color='C2', label='posterior mean')\n",
    "\n",
    "add_line(beta_hat_LS[0] + beta_hat_LS[2 + cat], beta_hat_LS[1], linetype='-', color='C3', label='least squares')\n",
    "\n",
    "add_line(mu_n[0] + mu_n[2 + cat], mu_n[1], linetype='-', color='C4', label='posterior mean (zero prior)')\n",
    "plt.xlabel('income')\n",
    "plt.ylabel('prestige')\n",
    "plt.legend()\n",
    "plt.show()"
   ]
  },
  {
   "cell_type": "markdown",
   "metadata": {},
   "source": [
    "### What would you expect this plot to look like as the amount of data changes?\n"
   ]
  },
  {
   "cell_type": "markdown",
   "metadata": {},
   "source": [
    "# Let's try on a different dataset\n",
    "\n",
    "### We're going to look at a dataset of the number of publications for biochemistry PhD students\n",
    "\n",
    "* art: articles in last three years of Ph.D.\n",
    "* fem: coded one for female\n",
    "* mar: coded one if married\n",
    "* kid5: number of children under age six\n",
    "* phd: prestige of Ph.D. program\n",
    "* ment: articles by mentor in last three years\n",
    "\n",
    "Let's load the data"
   ]
  },
  {
   "cell_type": "code",
   "execution_count": null,
   "metadata": {},
   "outputs": [],
   "source": [
    "df2 = pd.read_stata(\"http://www.stata-press.com/data/lf2/couart2.dta\")\n",
    "df2.head()"
   ]
  },
  {
   "cell_type": "markdown",
   "metadata": {},
   "source": [
    "### Let's look at predicting number of articles from marital status and program prestige\n",
    "\n",
    "(I'm ignoring the other variables for now so we can easily plot the resulting model)\n",
    "\n",
    "### We'll start with only 5 data points, and then add more data."
   ]
  },
  {
   "cell_type": "code",
   "execution_count": null,
   "metadata": {
    "collapsed": true
   },
   "outputs": [],
   "source": [
    "# construct the full dataset\n",
    "N = len(df2)\n",
    "X2 = np.ones((N, 3))\n",
    "X2[:, 1:] = df2[['mar', 'phd']]\n",
    "y2 = df2['art']"
   ]
  },
  {
   "cell_type": "code",
   "execution_count": null,
   "metadata": {
    "collapsed": true
   },
   "outputs": [],
   "source": [
    "\n",
    "# I'm using the same priors as before, feel free to change them\n",
    "\n",
    "sigma = 1.\n",
    "mu_0 = np.zeros(X2.shape[1])\n",
    "S_0 = np.eye(X2.shape[1])\n",
    "\n"
   ]
  },
  {
   "cell_type": "code",
   "execution_count": null,
   "metadata": {},
   "outputs": [],
   "source": [
    "data_sizes = [50, 200, 500, len(y2)]\n",
    "num_samples = 10\n",
    "colors = np.array(['red', 'blue'])\n",
    "\n",
    "# shuffle the rows of X2\n",
    "rp = np.random.permutation(len(y2))\n",
    "X2 = X2[rp, :]\n",
    "y2 = y2[rp]\n",
    "\n",
    "for n in data_sizes:\n",
    "    X2_tmp = X2[:n, :]\n",
    "    y2_tmp = y2[:n]\n",
    "    \n",
    "    ## calculate mu_n and S_n\n",
    "    mu_n, S_n = bayes(X2_tmp, y2_tmp, mu_0, S_0, sigma)\n",
    "     \n",
    "    # plot the data, colored by marital status\n",
    "    plt.scatter(x=X2_tmp[:, 2], y=y2_tmp, color=colors[X2_tmp[:, 1].astype(int)], alpha = 0.2, label=None)\n",
    "    \n",
    "    # plot the mean functions, colored by marital status\n",
    "    \n",
    "    add_line(mu_n[0], mu_n[1], linetype='-', color=colors[0], label='single')\n",
    "    add_line(mu_n[0], mu_n[1] + mu_n[2], linetype='-', color=colors[1], label='married')\n",
    "    \n",
    "    # add in sampled lines\n",
    "    for i in range(num_samples):\n",
    "        mu_sample = np.random.multivariate_normal(mean=mu_n, cov=S_n)\n",
    "        add_line(mu_sample[0], mu_sample[1], \n",
    "                 linetype='-.', color=colors[0], alpha=0.4, label=None)\n",
    "        add_line(mu_sample[0], mu_sample[1] + mu_sample[2], \n",
    "                 linetype='-.', color=colors[1], alpha=0.4, label=None)\n",
    "        \n",
    "    plt.xlabel('Program rating')\n",
    "    plt.ylabel('Number of publications')\n",
    "    plt.legend()\n",
    "    plt.title('N = {}'.format(n))\n",
    "    plt.show()\n",
    "\n"
   ]
  },
  {
   "cell_type": "markdown",
   "metadata": {},
   "source": [
    "### Does it look a reasonable fit?\n",
    "\n",
    "Suggest some ways in which the model might not be the best fit for the data.\n",
    "\n",
    "We'll work on incorporating these in the next set few slides."
   ]
  }
 ],
 "metadata": {
  "kernelspec": {
   "display_name": "Python 3",
   "language": "python",
   "name": "python3"
  },
  "language_info": {
   "codemirror_mode": {
    "name": "ipython",
    "version": 3
   },
   "file_extension": ".py",
   "mimetype": "text/x-python",
   "name": "python",
   "nbconvert_exporter": "python",
   "pygments_lexer": "ipython3",
   "version": "3.6.2"
  }
 },
 "nbformat": 4,
 "nbformat_minor": 2
}
