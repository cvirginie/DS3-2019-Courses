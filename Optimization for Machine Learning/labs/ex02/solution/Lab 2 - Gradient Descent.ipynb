{
 "cells": [
  {
   "cell_type": "code",
   "execution_count": 1,
   "metadata": {},
   "outputs": [],
   "source": [
    "# Useful starting lines\n",
    "%matplotlib inline\n",
    "import numpy as np\n",
    "import matplotlib.pyplot as plt\n",
    "%load_ext autoreload\n",
    "%autoreload 2"
   ]
  },
  {
   "cell_type": "markdown",
   "metadata": {},
   "source": [
    "# Load the data"
   ]
  },
  {
   "cell_type": "code",
   "execution_count": 2,
   "metadata": {},
   "outputs": [],
   "source": [
    "import datetime\n",
    "from helpers import *\n",
    "\n",
    "height, weight, gender = load_data(sub_sample=False, add_outlier=False)\n",
    "x, mean_x, std_x = standardize(height)\n",
    "b, A = build_model_data(x, weight)"
   ]
  },
  {
   "cell_type": "code",
   "execution_count": 3,
   "metadata": {},
   "outputs": [
    {
     "data": {
      "text/plain": [
       "((10000,), (10000, 2))"
      ]
     },
     "execution_count": 3,
     "metadata": {},
     "output_type": "execute_result"
    }
   ],
   "source": [
    "b.shape, A.shape\n"
   ]
  },
  {
   "cell_type": "markdown",
   "metadata": {},
   "source": [
    "\n",
    "# Least Squares Estimation\n",
    "Least squares estimation is one of the fundamental machine learning algorithms. Given an $ n \\times d $ matrix $A$ and a $ n \\times 1$ vector $b$, the goal is to find a vector $x \\in \\mathbb{R}^d$ which minimizes the objective function $$f(x) = \\frac{1}{2n} \\sum_{i=1}^{n} (a_i^\\top x - b_i)^2 = \\frac{1}{2n} \\|Ax - b\\|^2 $$\n",
    "\n",
    "In this exercise, we will try to fit $x$ using Least Squares Estimation. \n",
    "\n",
    "One can see the function is $L$ smooth with $L = \\frac1n\\|A\\|^2$ (Corollary 2.5)."
   ]
  },
  {
   "cell_type": "markdown",
   "metadata": {},
   "source": [
    "# Computing the Objective Function\n",
    "Fill in the `calculate_mse` function below:"
   ]
  },
  {
   "cell_type": "code",
   "execution_count": 4,
   "metadata": {},
   "outputs": [],
   "source": [
    "def calculate_mse(e):\n",
    "    \"\"\"Calculate the mean squared error for vector e.\"\"\"\n",
    "    return 1/2*np.mean(e**2)"
   ]
  },
  {
   "cell_type": "markdown",
   "metadata": {},
   "source": [
    "# Compute $L$"
   ]
  },
  {
   "cell_type": "markdown",
   "metadata": {},
   "source": [
    "To compute the spectral norm of A you can use np.linalg.norm(A, 2)"
   ]
  },
  {
   "cell_type": "code",
   "execution_count": 5,
   "metadata": {},
   "outputs": [],
   "source": [
    "def calculate_L(b, A):\n",
    "    \"\"\"Calculate the smoothness constant for f\"\"\"\n",
    "    eig = np.linalg.eigvals(A.T.dot(A))\n",
    "    L = max(eig)/(A.shape[0])\n",
    "    return L"
   ]
  },
  {
   "cell_type": "markdown",
   "metadata": {},
   "source": [
    "# Gradient Descent"
   ]
  },
  {
   "cell_type": "markdown",
   "metadata": {},
   "source": [
    "Please fill in the functions `compute_gradient` below:"
   ]
  },
  {
   "cell_type": "code",
   "execution_count": 6,
   "metadata": {},
   "outputs": [],
   "source": [
    "def compute_gradient(b, A, x):\n",
    "    \"\"\"Compute the gradient.\"\"\"\n",
    "    err = b - A.dot(x)\n",
    "    grad = -A.T.dot(err) / len(err)\n",
    "    return grad, err"
   ]
  },
  {
   "cell_type": "markdown",
   "metadata": {},
   "source": [
    "Please fill in the functions `gradient_descent` below:"
   ]
  },
  {
   "cell_type": "code",
   "execution_count": 7,
   "metadata": {},
   "outputs": [],
   "source": [
    "def gradient_descent(b, A, initial_x, max_iters, gamma):\n",
    "    \"\"\"Gradient descent algorithm.\"\"\"\n",
    "    # Define parameters to store x and objective func. values\n",
    "    xs = [initial_x]\n",
    "    objectives = []\n",
    "    x = initial_x\n",
    "    for n_iter in range(max_iters):\n",
    "        # compute objective, gradient\n",
    "        grad, err = compute_gradient(b, A, x)\n",
    "        obj = calculate_mse(err)\n",
    "        # update x by a gradient descent step\n",
    "        x = x - gamma * grad\n",
    "        # store x and objective function value\n",
    "        xs.append(x)\n",
    "        objectives.append(obj)\n",
    "        print(\"Gradient Descent({bi}/{ti}): objective={l}\".format(\n",
    "              bi=n_iter, ti=max_iters - 1, l=obj))\n",
    "\n",
    "    return objectives, xs"
   ]
  },
  {
   "cell_type": "markdown",
   "metadata": {},
   "source": [
    "Test your gradient descent function with a naive step size through gradient descent demo shown below:"
   ]
  },
  {
   "cell_type": "code",
   "execution_count": 8,
   "metadata": {},
   "outputs": [
    {
     "name": "stdout",
     "output_type": "stream",
     "text": [
      "Gradient Descent(0/49): objective=2792.2367127591674\n",
      "Gradient Descent(1/49): objective=2264.635056030004\n",
      "Gradient Descent(2/49): objective=1837.2777140793808\n",
      "Gradient Descent(3/49): objective=1491.1182670993767\n",
      "Gradient Descent(4/49): objective=1210.7291150455733\n",
      "Gradient Descent(5/49): objective=983.6139018819919\n",
      "Gradient Descent(6/49): objective=799.6505792194912\n",
      "Gradient Descent(7/49): objective=650.6402878628652\n",
      "Gradient Descent(8/49): objective=529.9419518639985\n",
      "Gradient Descent(9/49): objective=432.1762997049166\n",
      "Gradient Descent(10/49): objective=352.98612145606\n",
      "Gradient Descent(11/49): objective=288.8420770744862\n",
      "Gradient Descent(12/49): objective=236.88540112541136\n",
      "Gradient Descent(13/49): objective=194.80049360666086\n",
      "Gradient Descent(14/49): objective=160.71171851647293\n",
      "Gradient Descent(15/49): objective=133.09981069342064\n",
      "Gradient Descent(16/49): objective=110.73416535674832\n",
      "Gradient Descent(17/49): objective=92.61799263404373\n",
      "Gradient Descent(18/49): objective=77.94389272865303\n",
      "Gradient Descent(19/49): objective=66.05787180528657\n",
      "Gradient Descent(20/49): objective=56.43019485735974\n",
      "Gradient Descent(21/49): objective=48.631776529538996\n",
      "Gradient Descent(22/49): objective=42.31505768400421\n",
      "Gradient Descent(23/49): objective=37.19851541912103\n",
      "Gradient Descent(24/49): objective=33.05411618456563\n",
      "Gradient Descent(25/49): objective=29.69715280457578\n",
      "Gradient Descent(26/49): objective=26.97801246678399\n",
      "Gradient Descent(27/49): objective=24.77550879317262\n",
      "Gradient Descent(28/49): objective=22.991480817547433\n",
      "Gradient Descent(29/49): objective=21.546418157291\n",
      "Gradient Descent(30/49): objective=20.375917402483303\n",
      "Gradient Descent(31/49): objective=19.42781179108905\n",
      "Gradient Descent(32/49): objective=18.659846245859733\n",
      "Gradient Descent(33/49): objective=18.037794154223977\n",
      "Gradient Descent(34/49): objective=17.53393195999899\n",
      "Gradient Descent(35/49): objective=17.12580358267677\n",
      "Gradient Descent(36/49): objective=16.795219597045772\n",
      "Gradient Descent(37/49): objective=16.527446568684667\n",
      "Gradient Descent(38/49): objective=16.31055041571217\n",
      "Gradient Descent(39/49): objective=16.134864531804435\n",
      "Gradient Descent(40/49): objective=15.992558965839178\n",
      "Gradient Descent(41/49): objective=15.877291457407322\n",
      "Gradient Descent(42/49): objective=15.78392477557751\n",
      "Gradient Descent(43/49): objective=15.70829776329537\n",
      "Gradient Descent(44/49): objective=15.647039883346832\n",
      "Gradient Descent(45/49): objective=15.597421000588525\n",
      "Gradient Descent(46/49): objective=15.557229705554294\n",
      "Gradient Descent(47/49): objective=15.52467475657656\n",
      "Gradient Descent(48/49): objective=15.498305247904602\n",
      "Gradient Descent(49/49): objective=15.476945945880312\n",
      "Gradient Descent: execution time=0.136 seconds\n"
     ]
    }
   ],
   "source": [
    "# from gradient_descent import *\n",
    "from plots import gradient_descent_visualization\n",
    "\n",
    "# Define the parameters of the algorithm.\n",
    "max_iters = 50\n",
    "\n",
    "gamma = 0.1\n",
    "\n",
    "# Initialization\n",
    "x_initial = np.zeros(A.shape[1])\n",
    "\n",
    "# Start gradient descent.\n",
    "start_time = datetime.datetime.now()\n",
    "gradient_objectives_naive, gradient_xs_naive = gradient_descent(b, A, x_initial, max_iters, gamma)\n",
    "end_time = datetime.datetime.now()\n",
    "\n",
    "# Print result\n",
    "exection_time = (end_time - start_time).total_seconds()\n",
    "print(\"Gradient Descent: execution time={t:.3f} seconds\".format(t=exection_time))"
   ]
  },
  {
   "cell_type": "markdown",
   "metadata": {},
   "source": [
    "Time Visualization"
   ]
  },
  {
   "cell_type": "code",
   "execution_count": 9,
   "metadata": {
    "scrolled": false
   },
   "outputs": [
    {
     "data": {
      "image/png": "[encoded data removed]",
      "text/plain": [
       "<Figure size 720x432 with 2 Axes>"
      ]
     },
     "metadata": {},
     "output_type": "display_data"
    },
    {
     "data": {
      "text/plain": [
       "<function __main__.plot_figure>"
      ]
     },
     "execution_count": 9,
     "metadata": {},
     "output_type": "execute_result"
    }
   ],
   "source": [
    "from ipywidgets import IntSlider, interact\n",
    "from grid_search import *\n",
    "\n",
    "def plot_figure(n_iter):\n",
    "    # Generate grid data for visualization (parameters to be swept and best combination)\n",
    "    grid_x0, grid_x1 = generate_w(num_intervals=10)\n",
    "    grid_objectives = grid_search(b, A, grid_x0, grid_x1)\n",
    "    obj_star, x0_star, x1_star = get_best_parameters(grid_x0, grid_x1, grid_objectives)\n",
    "    \n",
    "    fig = gradient_descent_visualization(\n",
    "        gradient_objectives_naive, gradient_xs_naive, grid_objectives, grid_x0, grid_x1, mean_x, std_x, height, weight, n_iter)\n",
    "    fig.set_size_inches(10.0, 6.0)\n",
    "\n",
    "interact(plot_figure, n_iter=IntSlider(min=1, max=len(gradient_xs_naive)))"
   ]
  },
  {
   "cell_type": "markdown",
   "metadata": {},
   "source": [
    "Try doing gradient descent with a better learning rate"
   ]
  },
  {
   "cell_type": "code",
   "execution_count": 10,
   "metadata": {},
   "outputs": [
    {
     "name": "stdout",
     "output_type": "stream",
     "text": [
      "Gradient Descent(0/49): objective=2792.2367127591674\n",
      "Gradient Descent(1/49): objective=15.3858878688294\n",
      "Gradient Descent(2/49): objective=15.3858878688294\n",
      "Gradient Descent(3/49): objective=15.3858878688294\n",
      "Gradient Descent(4/49): objective=15.3858878688294\n",
      "Gradient Descent(5/49): objective=15.3858878688294\n",
      "Gradient Descent(6/49): objective=15.3858878688294\n",
      "Gradient Descent(7/49): objective=15.3858878688294\n",
      "Gradient Descent(8/49): objective=15.3858878688294\n",
      "Gradient Descent(9/49): objective=15.3858878688294\n",
      "Gradient Descent(10/49): objective=15.3858878688294\n",
      "Gradient Descent(11/49): objective=15.3858878688294\n",
      "Gradient Descent(12/49): objective=15.3858878688294\n",
      "Gradient Descent(13/49): objective=15.3858878688294\n",
      "Gradient Descent(14/49): objective=15.3858878688294\n",
      "Gradient Descent(15/49): objective=15.3858878688294\n",
      "Gradient Descent(16/49): objective=15.3858878688294\n",
      "Gradient Descent(17/49): objective=15.3858878688294\n",
      "Gradient Descent(18/49): objective=15.3858878688294\n",
      "Gradient Descent(19/49): objective=15.3858878688294\n",
      "Gradient Descent(20/49): objective=15.3858878688294\n",
      "Gradient Descent(21/49): objective=15.3858878688294\n",
      "Gradient Descent(22/49): objective=15.3858878688294\n",
      "Gradient Descent(23/49): objective=15.3858878688294\n",
      "Gradient Descent(24/49): objective=15.3858878688294\n",
      "Gradient Descent(25/49): objective=15.3858878688294\n",
      "Gradient Descent(26/49): objective=15.3858878688294\n",
      "Gradient Descent(27/49): objective=15.3858878688294\n",
      "Gradient Descent(28/49): objective=15.3858878688294\n",
      "Gradient Descent(29/49): objective=15.3858878688294\n",
      "Gradient Descent(30/49): objective=15.3858878688294\n",
      "Gradient Descent(31/49): objective=15.3858878688294\n",
      "Gradient Descent(32/49): objective=15.3858878688294\n",
      "Gradient Descent(33/49): objective=15.3858878688294\n",
      "Gradient Descent(34/49): objective=15.3858878688294\n",
      "Gradient Descent(35/49): objective=15.3858878688294\n",
      "Gradient Descent(36/49): objective=15.3858878688294\n",
      "Gradient Descent(37/49): objective=15.3858878688294\n",
      "Gradient Descent(38/49): objective=15.3858878688294\n",
      "Gradient Descent(39/49): objective=15.3858878688294\n",
      "Gradient Descent(40/49): objective=15.3858878688294\n",
      "Gradient Descent(41/49): objective=15.3858878688294\n",
      "Gradient Descent(42/49): objective=15.3858878688294\n",
      "Gradient Descent(43/49): objective=15.3858878688294\n",
      "Gradient Descent(44/49): objective=15.3858878688294\n",
      "Gradient Descent(45/49): objective=15.3858878688294\n",
      "Gradient Descent(46/49): objective=15.3858878688294\n",
      "Gradient Descent(47/49): objective=15.3858878688294\n",
      "Gradient Descent(48/49): objective=15.3858878688294\n",
      "Gradient Descent(49/49): objective=15.3858878688294\n",
      "Gradient Descent: execution time=0.035 seconds\n"
     ]
    }
   ],
   "source": [
    "# Define the parameters of the algorithm.\n",
    "max_iters = 50\n",
    "\n",
    "L = calculate_L(b, A)\n",
    "gamma = 1/L\n",
    "\n",
    "# Initialization\n",
    "x_initial = np.zeros(A.shape[1])\n",
    "\n",
    "# Start gradient descent.\n",
    "start_time = datetime.datetime.now()\n",
    "gradient_objectives, gradient_xs = gradient_descent(b, A, x_initial, max_iters, gamma)\n",
    "end_time = datetime.datetime.now()\n",
    "\n",
    "# Print result\n",
    "exection_time = (end_time - start_time).total_seconds()\n",
    "print(\"Gradient Descent: execution time={t:.3f} seconds\".format(t=exection_time))"
   ]
  },
  {
   "cell_type": "markdown",
   "metadata": {},
   "source": [
    "Time visualization with a better learning rate"
   ]
  },
  {
   "cell_type": "code",
   "execution_count": 11,
   "metadata": {},
   "outputs": [
    {
     "data": {
      "image/png": "[encoded data removed]",
      "text/plain": [
       "<Figure size 720x432 with 2 Axes>"
      ]
     },
     "metadata": {},
     "output_type": "display_data"
    },
    {
     "data": {
      "text/plain": [
       "<function __main__.plot_figure>"
      ]
     },
     "execution_count": 11,
     "metadata": {},
     "output_type": "execute_result"
    }
   ],
   "source": [
    "def plot_figure(n_iter):\n",
    "    # Generate grid data for visualization (parameters to be swept and best combination)\n",
    "    grid_x0, grid_x1 = generate_w(num_intervals=10)\n",
    "    grid_objectives = grid_search(b, A, grid_x0, grid_x1)\n",
    "    obj_star, x0_star, x1_star = get_best_parameters(grid_x0, grid_x1, grid_objectives)\n",
    "    \n",
    "    fig = gradient_descent_visualization(\n",
    "        gradient_objectives, gradient_xs, grid_objectives, grid_x0, grid_x1, mean_x, std_x, height, weight, n_iter)\n",
    "    fig.set_size_inches(10.0, 6.0)\n",
    "\n",
    "interact(plot_figure, n_iter=IntSlider(min=1, max=len(gradient_xs)))"
   ]
  },
  {
   "cell_type": "markdown",
   "metadata": {},
   "source": [
    "# Loading more complex data\n",
    "The data is taken from https://archive.ics.uci.edu/ml/datasets/Concrete+Compressive+Strength "
   ]
  },
  {
   "cell_type": "code",
   "execution_count": 12,
   "metadata": {},
   "outputs": [],
   "source": [
    "data = np.loadtxt(\"Concrete_Data.csv\",delimiter=\",\")\n",
    "\n",
    "A = data[:,:-1]\n",
    "b = data[:,-1]\n",
    "A, mean_A, std_A = standardize(A)"
   ]
  },
  {
   "cell_type": "code",
   "execution_count": 13,
   "metadata": {},
   "outputs": [
    {
     "data": {
      "text/plain": [
       "((1030,), (1030, 8))"
      ]
     },
     "execution_count": 13,
     "metadata": {},
     "output_type": "execute_result"
    }
   ],
   "source": [
    "b.shape, A.shape"
   ]
  },
  {
   "cell_type": "markdown",
   "metadata": {},
   "source": [
    "# Running gradient descent"
   ]
  },
  {
   "cell_type": "markdown",
   "metadata": {},
   "source": [
    "## Assuming bounded gradients\n",
    "Assume we are moving in a bounded region $\\|x\\| \\leq 25$ containing all iterates (and we assume $\\|x-x^\\star\\| \\leq 25$ as well, for simplicity). Then by $\\nabla f(x) = \\frac{1}{n}A^\\top (Ax - b)$, one can see that $f$ is Lipschitz over that bounded region, with Lipschitz constant $\\|\\nabla f(x)\\| \\leq \\frac{1}{n} (\\|A^\\top A\\|\\|x\\| + \\|A^\\top b\\|)$"
   ]
  },
  {
   "cell_type": "code",
   "execution_count": 14,
   "metadata": {},
   "outputs": [
    {
     "data": {
      "text/plain": [
       "98.662093272594547"
      ]
     },
     "execution_count": 14,
     "metadata": {},
     "output_type": "execute_result"
    }
   ],
   "source": [
    "grad_norm_bound = (25*np.linalg.norm(np.dot(A.T,A)) + np.linalg.norm(np.dot(A.T,b)))/A.shape[0]\n",
    "grad_norm_bound"
   ]
  },
  {
   "cell_type": "markdown",
   "metadata": {},
   "source": [
    "Fill in the learning rate assuming bounded gradients"
   ]
  },
  {
   "cell_type": "code",
   "execution_count": 15,
   "metadata": {},
   "outputs": [
    {
     "name": "stdout",
     "output_type": "stream",
     "text": [
      "Gradient Descent(0/49): objective=780.8686016504854\n",
      "Gradient Descent(1/49): objective=774.4313276862508\n",
      "Gradient Descent(2/49): objective=768.5337098080474\n",
      "Gradient Descent(3/49): objective=763.1283733311028\n",
      "Gradient Descent(4/49): objective=758.1722464988205\n",
      "Gradient Descent(5/49): objective=753.626157458017\n",
      "Gradient Descent(6/49): objective=749.4544702154914\n",
      "Gradient Descent(7/49): objective=745.6247556604571\n",
      "Gradient Descent(8/49): objective=742.1074941494887\n",
      "Gradient Descent(9/49): objective=738.8758065168346\n",
      "Gradient Descent(10/49): objective=735.9052106986934\n",
      "Gradient Descent(11/49): objective=733.1734014501008\n",
      "Gradient Descent(12/49): objective=730.6600508915817\n",
      "Gradient Descent(13/49): objective=728.346627853362\n",
      "Gradient Descent(14/49): objective=726.2162341908602\n",
      "Gradient Descent(15/49): objective=724.2534564292371\n",
      "Gradient Descent(16/49): objective=722.4442312594081\n",
      "Gradient Descent(17/49): objective=720.7757235552962\n",
      "Gradient Descent(18/49): objective=719.2362157141332\n",
      "Gradient Descent(19/49): objective=717.8150072399927\n",
      "Gradient Descent(20/49): objective=716.5023235969363\n",
      "Gradient Descent(21/49): objective=715.289233453504\n",
      "Gradient Descent(22/49): objective=714.1675735259377\n",
      "Gradient Descent(23/49): objective=713.1298803045223\n",
      "Gradient Descent(24/49): objective=712.1693280166955\n",
      "Gradient Descent(25/49): objective=711.2796722428958\n",
      "Gradient Descent(26/49): objective=710.4551986572515\n",
      "Gradient Descent(27/49): objective=709.6906764157699\n",
      "Gradient Descent(28/49): objective=708.9813157602601\n",
      "Gradient Descent(29/49): objective=708.3227294473201\n",
      "Gradient Descent(30/49): objective=707.7108976487891\n",
      "Gradient Descent(31/49): objective=707.1421360035328\n",
      "Gradient Descent(32/49): objective=706.613066530628\n",
      "Gradient Descent(33/49): objective=706.1205911413172\n",
      "Gradient Descent(34/49): objective=705.6618675117395\n",
      "Gradient Descent(35/49): objective=705.2342871007447\n",
      "Gradient Descent(36/49): objective=704.8354551172382\n",
      "Gradient Descent(37/49): objective=704.4631722597289\n",
      "Gradient Descent(38/49): objective=704.1154180672427\n",
      "Gradient Descent(39/49): objective=703.7903357356831\n",
      "Gradient Descent(40/49): objective=703.4862182672251\n",
      "Gradient Descent(41/49): objective=703.2014958325636\n",
      "Gradient Descent(42/49): objective=702.9347242369095\n",
      "Gradient Descent(43/49): objective=702.6845743906633\n",
      "Gradient Descent(44/49): objective=702.4498226947927\n",
      "Gradient Descent(45/49): objective=702.2293422591739\n",
      "Gradient Descent(46/49): objective=702.0220948796361\n",
      "Gradient Descent(47/49): objective=701.8271237062208\n",
      "Gradient Descent(48/49): objective=701.6435465413084\n",
      "Gradient Descent(49/49): objective=701.4705497118428\n",
      "Gradient Descent: execution time=0.020 seconds\n"
     ]
    }
   ],
   "source": [
    "max_iters = 50\n",
    "gamma = 25/(grad_norm_bound*np.sqrt(max_iters))\n",
    "\n",
    "# Initialization\n",
    "x_initial = np.zeros(A.shape[1])\n",
    "\n",
    "# Start gradient descent.\n",
    "start_time = datetime.datetime.now()\n",
    "bd_gradient_objectives, bd_gradient_xs = gradient_descent(b, A, x_initial, max_iters, gamma)\n",
    "end_time = datetime.datetime.now()\n",
    "\n",
    "\n",
    "# Print result\n",
    "exection_time = (end_time - start_time).total_seconds()\n",
    "print(\"Gradient Descent: execution time={t:.3f} seconds\".format(t=exection_time))\n",
    "\n",
    "# Averaging the iterates as is the case for bounded gradients case\n",
    "bd_gradient_objectives_averaged = []\n",
    "for i in range(len(bd_gradient_xs)):\n",
    "    if i > 0:\n",
    "        bd_gradient_xs[i] = (i * bd_gradient_xs[-1] + bd_gradient_xs[i])/(i + 1)\n",
    "    grad, err = compute_gradient(b, A, bd_gradient_xs[i])\n",
    "    obj = calculate_mse(err)\n",
    "    bd_gradient_objectives_averaged.append(obj)"
   ]
  },
  {
   "cell_type": "markdown",
   "metadata": {},
   "source": [
    "## Gradient descent using smoothness\n",
    "Fill in the learning rate using smoothness of the function"
   ]
  },
  {
   "cell_type": "code",
   "execution_count": 16,
   "metadata": {},
   "outputs": [
    {
     "name": "stdout",
     "output_type": "stream",
     "text": [
      "Gradient Descent(0/49): objective=780.8686016504854\n",
      "Gradient Descent(1/49): objective=721.5052560260676\n",
      "Gradient Descent(2/49): objective=706.7843584315374\n",
      "Gradient Descent(3/49): objective=702.1659603718193\n",
      "Gradient Descent(4/49): objective=700.3195706210597\n",
      "Gradient Descent(5/49): objective=699.3927282552014\n",
      "Gradient Descent(6/49): objective=698.8265138747603\n",
      "Gradient Descent(7/49): objective=698.4252460378514\n",
      "Gradient Descent(8/49): objective=698.1121802865196\n",
      "Gradient Descent(9/49): objective=697.8540419775695\n",
      "Gradient Descent(10/49): objective=697.6346924802035\n",
      "Gradient Descent(11/49): objective=697.4451956987403\n",
      "Gradient Descent(12/49): objective=697.2798771098778\n",
      "Gradient Descent(13/49): objective=697.134694345026\n",
      "Gradient Descent(14/49): objective=697.0065306304228\n",
      "Gradient Descent(15/49): objective=696.8928669366339\n",
      "Gradient Descent(16/49): objective=696.7916143488984\n",
      "Gradient Descent(17/49): objective=696.701017217532\n",
      "Gradient Descent(18/49): objective=696.6195897256094\n",
      "Gradient Descent(19/49): objective=696.5460698345364\n",
      "Gradient Descent(20/49): objective=696.4793834248536\n",
      "Gradient Descent(21/49): objective=696.4186151939682\n",
      "Gradient Descent(22/49): objective=696.362984497491\n",
      "Gradient Descent(23/49): objective=696.3118250564795\n",
      "Gradient Descent(24/49): objective=696.2645678090805\n",
      "Gradient Descent(25/49): objective=696.220726375205\n",
      "Gradient Descent(26/49): objective=696.1798847171168\n",
      "Gradient Descent(27/49): objective=696.1416866560031\n",
      "Gradient Descent(28/49): objective=696.105826961754\n",
      "Gradient Descent(29/49): objective=696.072043778206\n",
      "Gradient Descent(30/49): objective=696.0401121828639\n",
      "Gradient Descent(31/49): objective=696.0098387107206\n",
      "Gradient Descent(32/49): objective=695.9810566975377\n",
      "Gradient Descent(33/49): objective=695.9536223197188\n",
      "Gradient Descent(34/49): objective=695.9274112263599\n",
      "Gradient Descent(35/49): objective=695.9023156747344\n",
      "Gradient Descent(36/49): objective=695.8782420937702\n",
      "Gradient Descent(37/49): objective=695.8551090113992\n",
      "Gradient Descent(38/49): objective=695.8328452912637\n",
      "Gradient Descent(39/49): objective=695.8113886324363\n",
      "Gradient Descent(40/49): objective=695.7906842927655\n",
      "Gradient Descent(41/49): objective=695.770684002349\n",
      "Gradient Descent(42/49): objective=695.7513450386715\n",
      "Gradient Descent(43/49): objective=695.7326294392002\n",
      "Gradient Descent(44/49): objective=695.7145033308639\n",
      "Gradient Descent(45/49): objective=695.6969363589233\n",
      "Gradient Descent(46/49): objective=695.6799012003625\n",
      "Gradient Descent(47/49): objective=695.6633731491596\n",
      "Gradient Descent(48/49): objective=695.6473297626893\n",
      "Gradient Descent(49/49): objective=695.63175056012\n",
      "Gradient Descent: execution time=0.014 seconds\n"
     ]
    }
   ],
   "source": [
    "max_iters = 50\n",
    "L = calculate_L(b, A)\n",
    "gamma = 1/L\n",
    "\n",
    "# Initialization\n",
    "x_initial = np.zeros(A.shape[1])\n",
    "\n",
    "# Start gradient descent.\n",
    "start_time = datetime.datetime.now()\n",
    "gradient_objectives, gradient_xs = gradient_descent(b, A, x_initial, max_iters, gamma)\n",
    "end_time = datetime.datetime.now()\n",
    "\n",
    "# Print result\n",
    "exection_time = (end_time - start_time).total_seconds()\n",
    "print(\"Gradient Descent: execution time={t:.3f} seconds\".format(t=exection_time))"
   ]
  },
  {
   "cell_type": "markdown",
   "metadata": {},
   "source": [
    "## Plotting the Evolution of the Objective Function"
   ]
  },
  {
   "cell_type": "code",
   "execution_count": 17,
   "metadata": {},
   "outputs": [
    {
     "data": {
      "image/png": "[encoded data removed]",
      "text/plain": [
       "<Figure size 576x576 with 1 Axes>"
      ]
     },
     "metadata": {},
     "output_type": "display_data"
    }
   ],
   "source": [
    "plt.figure(figsize=(8, 8))\n",
    "plt.xlabel('Number of steps')\n",
    "plt.ylabel('Objective Function')\n",
    "#plt.yscale(\"log\")\n",
    "plt.plot(range(len(gradient_objectives)), gradient_objectives,'r', label='gradient descent with 1/L stepsize')\n",
    "plt.plot(range(len(bd_gradient_objectives)), bd_gradient_objectives,'b', label='gradient descent assuming bounded gradients')\n",
    "plt.plot(range(len(bd_gradient_objectives_averaged)), bd_gradient_objectives_averaged,'g', label='gradient descent assuming bounded gradients with averaged iterates')\n",
    "plt.legend(loc='upper right')\n",
    "plt.show()"
   ]
  },
  {
   "cell_type": "code",
   "execution_count": null,
   "metadata": {},
   "outputs": [],
   "source": []
  }
 ],
 "metadata": {
  "anaconda-cloud": {},
  "kernelspec": {
   "display_name": "Python 3",
   "language": "python",
   "name": "python3"
  },
  "language_info": {
   "codemirror_mode": {
    "name": "ipython",
    "version": 3
   },
   "file_extension": ".py",
   "mimetype": "text/x-python",
   "name": "python",
   "nbconvert_exporter": "python",
   "pygments_lexer": "ipython3",
   "version": "3.6.4"
  },
  "widgets": {
   "state": {
    "d2b2c3aea192430e81437f33ba0b0e69": {
     "views": [
      {
       "cell_index": 22
      }
     ]
    },
    "e4a6a7a70ccd42ddb112989c04f2ed3f": {
     "views": [
      {
       "cell_index": 18
      }
     ]
    }
   },
   "version": "1.2.0"
  }
 },
 "nbformat": 4,
 "nbformat_minor": 1
}
